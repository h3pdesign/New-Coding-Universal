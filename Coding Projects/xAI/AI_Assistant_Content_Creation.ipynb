{
 "cells": [
  {
   "cell_type": "markdown",
   "metadata": {
    "id": "ZrCBC6uDaLiy"
   },
   "source": [
    "**STEP 1:** Click the Play Button right next to \"pip install openai\""
   ]
  },
  {
   "cell_type": "code",
   "execution_count": null,
   "metadata": {
    "id": "H0mS3l0fSFgx"
   },
   "outputs": [],
   "source": [
    "pip install openai"
   ]
  },
  {
   "cell_type": "markdown",
   "metadata": {
    "id": "URH4zjHGabVq"
   },
   "source": [
    "**STEP 2:** Add your xAI API Key that you got from [x.ai](https://x.ai)\n",
    "\n",
    "**STEP 3:** Add your best writing content in *my_writing_style* (this can be social media posts, blog posts, news...etc).\n",
    "\n",
    "**STEP 4:** Modify the *prompt* to make the AI write about what you want to write.\n",
    "\n",
    "\n",
    "Note: Make sure to review the AI draft and add your own personal touch.\n",
    "\n",
    "If this was helpul, you can support by subscribing [here](https://x.com/dr_cintas)"
   ]
  },
  {
   "cell_type": "code",
   "execution_count": null,
   "metadata": {
    "id": "Z1bWKv_uRmQy"
   },
   "outputs": [
    {
     "ename": "",
     "evalue": "",
     "output_type": "error",
     "traceback": [
      "\u001b[1;31mRunning cells with 'Python 3.13.0' requires the ipykernel package.\n",
      "\u001b[1;31mRun the following command to install 'ipykernel' into the Python environment. \n",
      "\u001b[1;31mCommand: '/opt/homebrew/bin/python3 -m pip install ipykernel -U --user --force-reinstall'"
     ]
    }
   ],
   "source": [
    "import os\n",
    "from openai import OpenAI\n",
    "\n",
    "def create_style_assistant(writing_example):\n",
    "    XAI_API_KEY = \"xai-xCF0osIPLJvoeK6zZBTHnzFfGpT9bkHL1FjPQAcQj4JlorWctDpk0cMWqzuOGcl2BAlHWzSttW4vUBDa\"\n",
    "    client = OpenAI(\n",
    "        api_key=XAI_API_KEY,\n",
    "        base_url=\"https://api.x.ai/v1\",\n",
    "    )\n",
    "    system_message = f\"\"\"Analyze this writing example and mimic its style, tone, and voice in your responses: {writing_example} Maintain this same writing style in all your responses.\"\"\"\n",
    "\n",
    "    return client, system_message\n",
    "\n",
    "def generate_response(client, system_message, prompt):\n",
    "    completion = client.chat.completions.create(\n",
    "        model=\"grok-beta\",\n",
    "        messages=[\n",
    "            {\"role\": \"system\", \"content\": system_message},\n",
    "            {\"role\": \"user\", \"content\": prompt},\n",
    "        ]\n",
    "    )\n",
    "\n",
    "    return completion.choices[0].message.content\n",
    "\n",
    "if __name__ == \"__main__\":\n",
    "    my_writing_style = \"\"\"YOUR WRITING EXAMPLES GO HERE\"\"\"\n",
    "\n",
    "    # Create the assistant\n",
    "    client, system_message = create_style_assistant(my_writing_style)\n",
    "\n",
    "    # Generate a response\n",
    "    prompt = f\"\"\"Write a post about this news:......\"\"\"\n",
    "    response = generate_response(client, system_message, prompt)\n",
    "    print(response)"
   ]
  }
 ],
 "metadata": {
  "colab": {
   "provenance": []
  },
  "kernelspec": {
   "display_name": "Python 3",
   "name": "python3"
  },
  "language_info": {
   "name": "python",
   "version": "3.13.0"
  }
 },
 "nbformat": 4,
 "nbformat_minor": 0
}
